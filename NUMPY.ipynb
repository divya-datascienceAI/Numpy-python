{
 "cells": [
  {
   "cell_type": "code",
   "execution_count": 2,
   "id": "0a159098",
   "metadata": {},
   "outputs": [
    {
     "name": "stdout",
     "output_type": "stream",
     "text": [
      "[ 1  2  3  4  5  6  7  8  9 10 11 12 13 14 15 16 17 18 19 20 21 22 23 24\n",
      " 25 26 27 28 29 30 31 32 33 34 35 36 37 38 39 40 41 42 43 44 45 46 47 48\n",
      " 49 50 51 52 53 54 55 56 57 58 59 60 61 62 63 64 65 66 67 68 69 70 71 72\n",
      " 73 74 75 76 77 78 79 80 81 82 83 84 85 86 87 88 89 90 91 92 93 94 95 96\n",
      " 97 98 99]\n"
     ]
    }
   ],
   "source": [
    "import numpy as np\n",
    "x=np.arange(1,100) #np.array(range(1,100))\n",
    "print(x)"
   ]
  },
  {
   "cell_type": "code",
   "execution_count": 5,
   "id": "f2d043de",
   "metadata": {},
   "outputs": [
    {
     "name": "stdout",
     "output_type": "stream",
     "text": [
      "mean: 50.0\n",
      "sum: 4950\n"
     ]
    }
   ],
   "source": [
    "mean=np.mean(x)\n",
    "print('mean:',mean)\n",
    "sum=np.sum(x)\n",
    "print('sum:',sum)\n"
   ]
  },
  {
   "cell_type": "code",
   "execution_count": 8,
   "id": "6c60aabf",
   "metadata": {},
   "outputs": [
    {
     "name": "stdout",
     "output_type": "stream",
     "text": [
      "square root: [1.         1.41421356 1.73205081 2.         2.23606798 2.44948974\n",
      " 2.64575131 2.82842712 3.         3.16227766 3.31662479 3.46410162\n",
      " 3.60555128 3.74165739 3.87298335 4.         4.12310563 4.24264069\n",
      " 4.35889894 4.47213595 4.58257569 4.69041576 4.79583152 4.89897949\n",
      " 5.         5.09901951 5.19615242 5.29150262 5.38516481 5.47722558\n",
      " 5.56776436 5.65685425 5.74456265 5.83095189 5.91607978 6.\n",
      " 6.08276253 6.164414   6.244998   6.32455532 6.40312424 6.4807407\n",
      " 6.55743852 6.63324958 6.70820393 6.78232998 6.8556546  6.92820323\n",
      " 7.         7.07106781 7.14142843 7.21110255 7.28010989 7.34846923\n",
      " 7.41619849 7.48331477 7.54983444 7.61577311 7.68114575 7.74596669\n",
      " 7.81024968 7.87400787 7.93725393 8.         8.06225775 8.1240384\n",
      " 8.18535277 8.24621125 8.30662386 8.36660027 8.42614977 8.48528137\n",
      " 8.54400375 8.60232527 8.66025404 8.71779789 8.77496439 8.83176087\n",
      " 8.88819442 8.94427191 9.         9.05538514 9.11043358 9.16515139\n",
      " 9.21954446 9.2736185  9.32737905 9.38083152 9.43398113 9.48683298\n",
      " 9.53939201 9.59166305 9.64365076 9.69535971 9.74679434 9.79795897\n",
      " 9.8488578  9.89949494 9.94987437]\n"
     ]
    }
   ],
   "source": [
    "y=np.sqrt(x)\n",
    "print('square root:',y)"
   ]
  },
  {
   "cell_type": "code",
   "execution_count": 10,
   "id": "35eb4bcb",
   "metadata": {},
   "outputs": [
    {
     "name": "stdout",
     "output_type": "stream",
     "text": [
      "diff: [1 1 1 1 1 1 1 1 1 1 1 1 1 1 1 1 1 1 1 1 1 1 1 1 1 1 1 1 1 1 1 1 1 1 1 1 1\n",
      " 1 1 1 1 1 1 1 1 1 1 1 1 1 1 1 1 1 1 1 1 1 1 1 1 1 1 1 1 1 1 1 1 1 1 1 1 1\n",
      " 1 1 1 1 1 1 1 1 1 1 1 1 1 1 1 1 1 1 1 1 1 1 1 1]\n"
     ]
    }
   ],
   "source": [
    "z=np.diff(x)\n",
    "print('diff:',z)"
   ]
  },
  {
   "cell_type": "code",
   "execution_count": 11,
   "id": "ecbfac9e",
   "metadata": {},
   "outputs": [
    {
     "name": "stdout",
     "output_type": "stream",
     "text": [
      "[  1.5   3.    4.5   6.    7.5   9.   10.5  12.   13.5  15.   16.5  18.\n",
      "  19.5  21.   22.5  24.   25.5  27.   28.5  30.   31.5  33.   34.5  36.\n",
      "  37.5  39.   40.5  42.   43.5  45.   46.5  48.   49.5  51.   52.5  54.\n",
      "  55.5  57.   58.5  60.   61.5  63.   64.5  66.   67.5  69.   70.5  72.\n",
      "  73.5  75.   76.5  78.   79.5  81.   82.5  84.   85.5  87.   88.5  90.\n",
      "  91.5  93.   94.5  96.   97.5  99.  100.5 102.  103.5 105.  106.5 108.\n",
      " 109.5 111.  112.5 114.  115.5 117.  118.5 120.  121.5 123.  124.5 126.\n",
      " 127.5 129.  130.5 132.  133.5 135.  136.5 138.  139.5 141.  142.5 144.\n",
      " 145.5 147.  148.5]\n"
     ]
    }
   ],
   "source": [
    "f=np.array(x+(x/2))\n",
    "print(f)"
   ]
  },
  {
   "cell_type": "code",
   "execution_count": 3,
   "id": "0a0ee212",
   "metadata": {},
   "outputs": [
    {
     "name": "stdout",
     "output_type": "stream",
     "text": [
      "<class 'tuple'>\n",
      "[ True  True False  True  True  True] <class 'numpy.ndarray'>\n"
     ]
    }
   ],
   "source": [
    "t=(3,4,0,6,np.NAN,7)\n",
    "print(type(t))\n",
    "x=np.array(t)\n",
    "print(x!=0,type(x))\n"
   ]
  },
  {
   "cell_type": "code",
   "execution_count": 49,
   "id": "e5aa3c83",
   "metadata": {},
   "outputs": [
    {
     "name": "stdout",
     "output_type": "stream",
     "text": [
      "[ 3.  4.  2.  6. nan  7.] <class 'numpy.ndarray'>\n"
     ]
    },
    {
     "data": {
      "text/plain": [
       "dtype('float64')"
      ]
     },
     "execution_count": 49,
     "metadata": {},
     "output_type": "execute_result"
    }
   ],
   "source": [
    "y=np.array([3,4,2,6,np.NAN,7],dtype=float)\n",
    "print(y,type(y))\n",
    "y.dtype"
   ]
  },
  {
   "cell_type": "code",
   "execution_count": 48,
   "id": "c3909960",
   "metadata": {},
   "outputs": [
    {
     "name": "stdout",
     "output_type": "stream",
     "text": [
      "[ 2.  3.  4.  6.  7. nan]\n"
     ]
    },
    {
     "data": {
      "text/plain": [
       "dtype('float64')"
      ]
     },
     "execution_count": 48,
     "metadata": {},
     "output_type": "execute_result"
    }
   ],
   "source": [
    "z=np.sort(np.array(t))\n",
    "print(z)\n",
    "z.dtype"
   ]
  },
  {
   "cell_type": "code",
   "execution_count": 51,
   "id": "11c3be63",
   "metadata": {},
   "outputs": [
    {
     "name": "stdout",
     "output_type": "stream",
     "text": [
      "[False False False False  True False]\n"
     ]
    },
    {
     "data": {
      "text/plain": [
       "dtype('bool')"
      ]
     },
     "execution_count": 51,
     "metadata": {},
     "output_type": "execute_result"
    }
   ],
   "source": [
    "r=np.isnan(np.array(t))\n",
    "print(r)\n",
    "r.dtype"
   ]
  },
  {
   "cell_type": "code",
   "execution_count": 45,
   "id": "d41e2325",
   "metadata": {},
   "outputs": [
    {
     "data": {
      "text/plain": [
       "1"
      ]
     },
     "execution_count": 45,
     "metadata": {},
     "output_type": "execute_result"
    }
   ],
   "source": [
    "r.sum()"
   ]
  },
  {
   "cell_type": "code",
   "execution_count": 59,
   "id": "7a7f99f9",
   "metadata": {},
   "outputs": [
    {
     "name": "stdout",
     "output_type": "stream",
     "text": [
      "[[ 1  3  5  9 11 18]\n",
      " [ 1  2  3  4  5  6]\n",
      " [ 7  7  7  7  7  7]]\n"
     ]
    }
   ],
   "source": [
    "#3\n",
    "import numpy as np\n",
    "a,b,c=(1,3,5,9,11,18),list(range(1,7)),[7]*6\n",
    "m=np.array([a,b,c])\n",
    "print(m)"
   ]
  },
  {
   "cell_type": "code",
   "execution_count": 63,
   "id": "0c3613ed",
   "metadata": {},
   "outputs": [
    {
     "name": "stdout",
     "output_type": "stream",
     "text": [
      "shape of m: (3, 6)\n",
      "dimension: 2\n"
     ]
    }
   ],
   "source": [
    "print('shape of m:',m.shape)\n",
    "print('dimension:',m.ndim)"
   ]
  },
  {
   "cell_type": "code",
   "execution_count": 70,
   "id": "f7f2d5ac",
   "metadata": {},
   "outputs": [
    {
     "name": "stdout",
     "output_type": "stream",
     "text": [
      "transpose: [[ 1  1  7]\n",
      " [ 3  2  7]\n",
      " [ 5  3  7]\n",
      " [ 9  4  7]\n",
      " [11  5  7]\n",
      " [18  6  7]]\n",
      "copied value : [[ 1  3  5  9 11 18]\n",
      " [ 1  2  3  4  5  6]\n",
      " [ 7  7  7  7  7  7]]\n",
      "size: 18\n"
     ]
    }
   ],
   "source": [
    "print('transpose:',m.T)\n",
    "copy=m.copy()\n",
    "print('copied value :',copy)\n",
    "print('size:',m.size)"
   ]
  },
  {
   "cell_type": "code",
   "execution_count": 81,
   "id": "319b30cc",
   "metadata": {},
   "outputs": [
    {
     "name": "stdout",
     "output_type": "stream",
     "text": [
      "[0 1 2 3 4]\n",
      "[0 0 0 1 1 1 2 2 2 3 3 3 4 4 4]\n",
      "[0 1 2 3 4 0 1 2 3 4 0 1 2 3 4]\n"
     ]
    }
   ],
   "source": [
    "l=np.array([0,1,2,3,4])\n",
    "print(l)\n",
    "r=l.repeat(3,axis=None)\n",
    "print(r)\n",
    "t=np.tile(l,3)\n",
    "print(t)"
   ]
  },
  {
   "cell_type": "code",
   "execution_count": 91,
   "id": "f354410b",
   "metadata": {},
   "outputs": [
    {
     "name": "stdout",
     "output_type": "stream",
     "text": [
      "[[ 1  2  3  4  5  6  7  8  9 10]\n",
      " [10  9  8  7  6  5  4  3  2  1]] [[10  9  8  7  6  5  4  3  2  1]\n",
      " [ 1  2  3  4  5  6  7  8  9 10]]\n",
      "[[ 1  2  3  4  5  6  7  8  9 10]\n",
      " [ 1  2  3  4  5  6  7  8  9 10]\n",
      " [10  9  8  7  6  5  4  3  2  1]\n",
      " [10  9  8  7  6  5  4  3  2  1]]\n",
      "[[ 1  1  2  2  3  3  4  4  5  5  6  6  7  7  8  8  9  9 10 10]\n",
      " [10 10  9  9  8  8  7  7  6  6  5  5  4  4  3  3  2  2  1  1]]\n"
     ]
    }
   ],
   "source": [
    "import numpy as np\n",
    "d=np.array([[1, 2,3, 4, 5, 6, 7, 8, 9, 10],[10, 9, 8, 7, 6, 5, 4, 3, 2, 1]])\n",
    "print(d,d[::-1])\n",
    "r=np.repeat(d,2,axis=0)\n",
    "print(r)\n",
    "c=np.repeat(d,2,axis=1)\n",
    "print(c)"
   ]
  },
  {
   "cell_type": "code",
   "execution_count": 97,
   "id": "54e183c0",
   "metadata": {},
   "outputs": [
    {
     "name": "stdout",
     "output_type": "stream",
     "text": [
      "[0. 0. 0. 1. 1. 1. 1. 1. 1. 0. 1.]\n"
     ]
    }
   ],
   "source": [
    "j=np.zeros(3)\n",
    "k=np.ones(5)\n",
    "l=[True,False,True]\n",
    "m=np.concatenate((j,k,l),axis=None)\n",
    "print(m)"
   ]
  },
  {
   "cell_type": "code",
   "execution_count": 106,
   "id": "8b96aa15",
   "metadata": {},
   "outputs": [
    {
     "name": "stdout",
     "output_type": "stream",
     "text": [
      "[1. 0. 1. 0. 1. 1. 1. 1. 0. 0. 1.]\n"
     ]
    }
   ],
   "source": [
    "np.random.shuffle(m)\n",
    "print(m)"
   ]
  },
  {
   "cell_type": "code",
   "execution_count": 111,
   "id": "4bbaf042",
   "metadata": {},
   "outputs": [
    {
     "name": "stdout",
     "output_type": "stream",
     "text": [
      "[3 6 2 1]\n"
     ]
    }
   ],
   "source": [
    "v=np.array([3,6,0,2,1,0])\n",
    "n=np.array((v!=0))\n",
    "print(v[n])"
   ]
  },
  {
   "cell_type": "code",
   "execution_count": 131,
   "id": "a0d20f1e",
   "metadata": {},
   "outputs": [
    {
     "name": "stdout",
     "output_type": "stream",
     "text": [
      "[0 2 1 0]\n",
      "[ True False  True]\n"
     ]
    }
   ],
   "source": [
    "s=v[2:6]\n",
    "print(s)\n",
    "s1=n[1:4]\n",
    "print(s1)"
   ]
  },
  {
   "cell_type": "code",
   "execution_count": 128,
   "id": "2b0fe6b8",
   "metadata": {},
   "outputs": [
    {
     "name": "stdout",
     "output_type": "stream",
     "text": [
      "(array([0, 1, 3, 4], dtype=int64),) [3 6 2 1]\n",
      "(4,)\n",
      "(1, 4)\n"
     ]
    }
   ],
   "source": [
    "v=np.array([3,6,0,2,1,0])\n",
    "nonzero_index=np.nonzero(v)\n",
    "print(nonzero_index,v[nonzero_index])\n",
    "print((v[nonzero_index]).shape)\n",
    "print((np.take(v,nonzero_index)).shape)"
   ]
  },
  {
   "cell_type": "code",
   "execution_count": 141,
   "id": "1ff1beea",
   "metadata": {},
   "outputs": [
    {
     "name": "stdout",
     "output_type": "stream",
     "text": [
      "[[ 0  1  2  3]\n",
      " [10 11 12 13]]\n",
      "[[ 1  4  6  6]\n",
      " [ 8  3 45  2]]\n",
      "[[1 2]\n",
      " [3 4]]\n",
      "[[ 0  1  2  3  1  4  6  6]\n",
      " [10 11 12 13  8  3 45  2]]\n",
      "[[ 0  1  2  3]\n",
      " [10 11 12 13]\n",
      " [ 1  4  6  6]\n",
      " [ 8  3 45  2]]\n"
     ]
    }
   ],
   "source": [
    "#a=np.array([[0,1,2,3],[10,11,12,13]])\n",
    "a=np.array([np.arange(0,4),np.arange(10,14)])\n",
    "print(a)\n",
    "b=np.array([[1,4,6,6],[8,3,45,2]])\n",
    "print(b)\n",
    "c=np.array([[1,2],[3,4]])\n",
    "print(c)\n",
    "j=np.concatenate((a,b),axis=1)\n",
    "print(j)\n",
    "j1=np.concatenate((a,b),axis=0)\n",
    "print(j1)\n"
   ]
  },
  {
   "cell_type": "code",
   "execution_count": null,
   "id": "05d954f4",
   "metadata": {},
   "outputs": [],
   "source": []
  },
  {
   "cell_type": "code",
   "execution_count": null,
   "id": "a0e85ece",
   "metadata": {},
   "outputs": [],
   "source": []
  }
 ],
 "metadata": {
  "kernelspec": {
   "display_name": "Python 3",
   "language": "python",
   "name": "python3"
  },
  "language_info": {
   "codemirror_mode": {
    "name": "ipython",
    "version": 3
   },
   "file_extension": ".py",
   "mimetype": "text/x-python",
   "name": "python",
   "nbconvert_exporter": "python",
   "pygments_lexer": "ipython3",
   "version": "3.8.8"
  }
 },
 "nbformat": 4,
 "nbformat_minor": 5
}
